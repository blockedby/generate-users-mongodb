{
 "cells": [
  {
   "cell_type": "code",
   "execution_count": 6,
   "metadata": {},
   "outputs": [],
   "source": [
    "# General imports:\n",
    "import json\n",
    "import random\n",
    "import string\n",
    "import os\n",
    "from dotenv import load_dotenv\n",
    "import pymongo\n"
   ]
  },
  {
   "cell_type": "code",
   "execution_count": 7,
   "metadata": {},
   "outputs": [],
   "source": [
    "# Dotenv load:\n",
    "load_dotenv()\n",
    "\n",
    "MONGODB_CONNECTION_STRING = os.getenv('MONGODB_CONNECTION_STRING')\n"
   ]
  },
  {
   "cell_type": "code",
   "execution_count": 1,
   "metadata": {},
   "outputs": [
    {
     "data": {
      "text/plain": [
       "[{'address': '0x8CGZJF0E78H0U8I8NDCOJ2MEB09XSC0O37E759QJ',\n",
       "  'name': 'Evelyn Williams',\n",
       "  'email': 'evelyn.williams@email.com',\n",
       "  'order_id': 4},\n",
       " {'address': '0xE91LVHDGDIIE2JSXIO52EQ4BXTHYNJUB1P8D4M05',\n",
       "  'name': 'Olivia Brown',\n",
       "  'email': 'olivia.brown@email.com',\n",
       "  'order_id': 1},\n",
       " {'address': '0xJ9NMDN8XJMBS475H2VH47LIGWOJBTS3PBH4NTWIQ',\n",
       "  'name': 'Isabella Johnson',\n",
       "  'email': 'isabella.johnson@email.com',\n",
       "  'order_id': 5},\n",
       " {'address': '0xYTZUNTXT5OX0F3IKV53KJ10TBMT9PM13DNMWBH2H',\n",
       "  'name': 'Isabella Williams',\n",
       "  'email': 'isabella.williams@email.com',\n",
       "  'order_id': 2},\n",
       " {'address': '0xSUHOZ981VQVW2SZUTBQOXGX48GA7QIJ0MEI9RSOD',\n",
       "  'name': 'Amelia Miller',\n",
       "  'email': 'amelia.miller@email.com',\n",
       "  'order_id': 2},\n",
       " {'address': '0xZPSDZCK5YVY2HENRMVG63WC2W21YSQ03VVNCHZ7K',\n",
       "  'name': 'Isabella Smith',\n",
       "  'email': 'isabella.smith@email.com',\n",
       "  'order_id': 3},\n",
       " {'address': '0xVS27RMGGS7EA23M5VYEQWIDFO4UH6D600JRAALWK',\n",
       "  'name': 'Ava Smith',\n",
       "  'email': 'ava.smith@email.com',\n",
       "  'order_id': 1},\n",
       " {'address': '0xDEY52WSZSRTJ3UN7AMCU0X8S1Y2I0NSZSKTC99RV',\n",
       "  'name': 'Mia Moore',\n",
       "  'email': 'mia.moore@email.com',\n",
       "  'order_id': 3},\n",
       " {'address': '0xG6Z1PXSIVZTMNZNXSPNZ64HLM57YME95O2C8QX9Y',\n",
       "  'name': 'Ava Smith',\n",
       "  'email': 'ava.smith@email.com',\n",
       "  'order_id': 2},\n",
       " {'address': '0xJP5SIQH8ABOOBE7K437AE9QD06IZGZDJ01UTHF3H',\n",
       "  'name': 'Harper Taylor',\n",
       "  'email': 'harper.taylor@email.com',\n",
       "  'order_id': 1},\n",
       " {'address': '0xW4ZG58IKBB6U7BR1XM6G93IGGS9D5Z09UWLJD6WV',\n",
       "  'name': 'Emma Johnson',\n",
       "  'email': 'emma.johnson@email.com',\n",
       "  'order_id': 1},\n",
       " {'address': '0xHGCEJJ2LJBZUO6HNQIETKNZMEGTHVS536HRPEQMZ',\n",
       "  'name': 'Charlotte Davis',\n",
       "  'email': 'charlotte.davis@email.com',\n",
       "  'order_id': 4},\n",
       " {'address': '0xO0EA7PX1OK3CIK7R5AVS9FHHGZMFN9F7PGO9SL8D',\n",
       "  'name': 'Harper Brown',\n",
       "  'email': 'harper.brown@email.com',\n",
       "  'order_id': 0},\n",
       " {'address': '0xIABT6PSQZPXWR6B74CWHWCST7O5M0M2PZ0GR3G06',\n",
       "  'name': 'Emma Johnson',\n",
       "  'email': 'emma.johnson@email.com',\n",
       "  'order_id': 4},\n",
       " {'address': '0xRU3BA22DLR1Z9DAN6XZ9MO3GMDN9W4RD2KL6GXZ0',\n",
       "  'name': 'Mia Taylor',\n",
       "  'email': 'mia.taylor@email.com',\n",
       "  'order_id': 3},\n",
       " {'address': '0x2TY34FJ8UGXXOLSDXF1RU9VW734IFOEHYZS8A05Y',\n",
       "  'name': 'Evelyn Davis',\n",
       "  'email': 'evelyn.davis@email.com',\n",
       "  'order_id': 4},\n",
       " {'address': '0x7YXXTIGATENJXNE3VXKCG5MXANRB1OHEADKOF3PY',\n",
       "  'name': 'Amelia Smith',\n",
       "  'email': 'amelia.smith@email.com',\n",
       "  'order_id': 3},\n",
       " {'address': '0xLGVCOKCPLUTULCQNVJHH8ZVWOSJ13O7V30NAUQLL',\n",
       "  'name': 'Mia Moore',\n",
       "  'email': 'mia.moore@email.com',\n",
       "  'order_id': 5},\n",
       " {'address': '0x7LLA3LCKFRI9113BJ9KJMCZSM2DN18D7MZF9BX87',\n",
       "  'name': 'Amelia Taylor',\n",
       "  'email': 'amelia.taylor@email.com',\n",
       "  'order_id': 1},\n",
       " {'address': '0x06B76BW315SWTVYMGJULQOOO2IDP3KXZ878U618Z',\n",
       "  'name': 'Ava Johnson',\n",
       "  'email': 'ava.johnson@email.com',\n",
       "  'order_id': 0},\n",
       " {'address': '0xC2L2J8RPZDOSBUS39G1YVMZX9Y25DIV134ELT7IK',\n",
       "  'name': 'Evelyn Moore',\n",
       "  'email': 'evelyn.moore@email.com',\n",
       "  'order_id': 1},\n",
       " {'address': '0xDX923ACW98TKOU67C75M83JSPM021O79FRCE5Z2H',\n",
       "  'name': 'Ava Wilson',\n",
       "  'email': 'ava.wilson@email.com',\n",
       "  'order_id': 2},\n",
       " {'address': '0xM1ALK9MO1KTHLOLYD37SMYUK6P40WZ47NUHT33IX',\n",
       "  'name': 'Isabella Moore',\n",
       "  'email': 'isabella.moore@email.com',\n",
       "  'order_id': 4},\n",
       " {'address': '0xP9NFSVZ5DY5F7W0IMR7F0LV5T0IPJMPZC3REI545',\n",
       "  'name': 'Amelia Moore',\n",
       "  'email': 'amelia.moore@email.com',\n",
       "  'order_id': 1},\n",
       " {'address': '0x15BV6TI1RRRO6YUFPDT66ZG5NIUNTZMLP7DTYLTT',\n",
       "  'name': 'Mia Wilson',\n",
       "  'email': 'mia.wilson@email.com',\n",
       "  'order_id': 3},\n",
       " {'address': '0xJA2E2XGJPJWVG7AJ989REN9UKBZIFFCRHVO8QG5Q',\n",
       "  'name': 'Amelia Taylor',\n",
       "  'email': 'amelia.taylor@email.com',\n",
       "  'order_id': 0},\n",
       " {'address': '0xJOJ4LG5VK9XUVZJBN1SXLWGA76WWWVAKEKKA67N5',\n",
       "  'name': 'Harper Johnson',\n",
       "  'email': 'harper.johnson@email.com',\n",
       "  'order_id': 3},\n",
       " {'address': '0x0BRVP3FNMI98OG73FVF4E3KSSJQDRHU7KK15WJPU',\n",
       "  'name': 'Isabella Brown',\n",
       "  'email': 'isabella.brown@email.com',\n",
       "  'order_id': 4},\n",
       " {'address': '0xN4TLN6F505D0T5QCZ9FKCWWNZ8FMQW1GYTBDY4OW',\n",
       "  'name': 'Harper Taylor',\n",
       "  'email': 'harper.taylor@email.com',\n",
       "  'order_id': 0},\n",
       " {'address': '0xXUG58U3E3GBQK6PHSJ5UW1ZLU4JT1M6LI69Q7R73',\n",
       "  'name': 'Charlotte Williams',\n",
       "  'email': 'charlotte.williams@email.com',\n",
       "  'order_id': 3},\n",
       " {'address': '0xZI40DLW7RFGYUMVMSJE15DUILETYI1DOAEZMUC14',\n",
       "  'name': 'Evelyn Wilson',\n",
       "  'email': 'evelyn.wilson@email.com',\n",
       "  'order_id': 0},\n",
       " {'address': '0xPU93TEKNTAG2QKXVDT66VH13MU8CAVJX4184TJKF',\n",
       "  'name': 'Amelia Johnson',\n",
       "  'email': 'amelia.johnson@email.com',\n",
       "  'order_id': 3},\n",
       " {'address': '0xECY6JHQ44B6ZH3II8M5P8EBE3828KIVIF53V4QMT',\n",
       "  'name': 'Mia Miller',\n",
       "  'email': 'mia.miller@email.com',\n",
       "  'order_id': 1},\n",
       " {'address': '0xSNQY6F1RAGK054VYXEVMZ97A239C1MP8S3EBNBVJ',\n",
       "  'name': 'Charlotte Johnson',\n",
       "  'email': 'charlotte.johnson@email.com',\n",
       "  'order_id': 2},\n",
       " {'address': '0xIM71WFT5Z037FNOTWGTGK8PBB40376LSNK24U53P',\n",
       "  'name': 'Olivia Miller',\n",
       "  'email': 'olivia.miller@email.com',\n",
       "  'order_id': 4},\n",
       " {'address': '0xM3TOMZZ8Z1C1TLOU1N0RVHDQMTQY9Y45PB1G5JWC',\n",
       "  'name': 'Mia Smith',\n",
       "  'email': 'mia.smith@email.com',\n",
       "  'order_id': 3},\n",
       " {'address': '0xE0IGA1XGATCIYGHVDYQ02ETSZJGPRENA172EY3IB',\n",
       "  'name': 'Charlotte Moore',\n",
       "  'email': 'charlotte.moore@email.com',\n",
       "  'order_id': 4},\n",
       " {'address': '0xS75D12PRSBTBOJUAGK8HOPRCT3TLIZVQFLMJVFMB',\n",
       "  'name': 'Evelyn Smith',\n",
       "  'email': 'evelyn.smith@email.com',\n",
       "  'order_id': 0},\n",
       " {'address': '0xFRDKPEZ550D8KIN6B4IEBKOYAA9J6L789HSGLS4E',\n",
       "  'name': 'Sophia Brown',\n",
       "  'email': 'sophia.brown@email.com',\n",
       "  'order_id': 1},\n",
       " {'address': '0xQWXPB83PT2TH57SN4RB2T003G8987U39G7Z2I1YI',\n",
       "  'name': 'Evelyn Williams',\n",
       "  'email': 'evelyn.williams@email.com',\n",
       "  'order_id': 4},\n",
       " {'address': '0x0P2IWP62RLQAAYF7IFEUU4JTBGT6A3FJ7YI55VPM',\n",
       "  'name': 'Charlotte Brown',\n",
       "  'email': 'charlotte.brown@email.com',\n",
       "  'order_id': 5},\n",
       " {'address': '0xI16MGWBTY9YRZ14D9V2872MJI9SQJ7VYIVD6O3QO',\n",
       "  'name': 'Mia Smith',\n",
       "  'email': 'mia.smith@email.com',\n",
       "  'order_id': 3},\n",
       " {'address': '0xWIBOP353673ZZ237ZI1GHBLB3NW1UH3HH9J3Z0U7',\n",
       "  'name': 'Isabella Taylor',\n",
       "  'email': 'isabella.taylor@email.com',\n",
       "  'order_id': 5},\n",
       " {'address': '0x3U2GHZY1D41LH6UKREH3W1WU5HLEHL6M71V4IQTI',\n",
       "  'name': 'Emma Taylor',\n",
       "  'email': 'emma.taylor@email.com',\n",
       "  'order_id': 0},\n",
       " {'address': '0x0JIYQPPP6NB0I1T3KQDT2PN318A3GXE5V426FQYW',\n",
       "  'name': 'Isabella Johnson',\n",
       "  'email': 'isabella.johnson@email.com',\n",
       "  'order_id': 5},\n",
       " {'address': '0xBYP9CYQQOI9AFAGPH5XC8VROPBU7X3XRARMNQL6L',\n",
       "  'name': 'Amelia Moore',\n",
       "  'email': 'amelia.moore@email.com',\n",
       "  'order_id': 0},\n",
       " {'address': '0x0UCR5W924ULC1TMHLFSJIUDN56GCMTF4PZJ354F8',\n",
       "  'name': 'Sophia Johnson',\n",
       "  'email': 'sophia.johnson@email.com',\n",
       "  'order_id': 0},\n",
       " {'address': '0xTUYY3XYEPHFOBPC99PO4YNQI34LLOA3HKIIN7WE2',\n",
       "  'name': 'Amelia Moore',\n",
       "  'email': 'amelia.moore@email.com',\n",
       "  'order_id': 0},\n",
       " {'address': '0x8EW8TWRBHRFI0YCVI9721SAELOHWK15HBXEX8PJS',\n",
       "  'name': 'Mia Johnson',\n",
       "  'email': 'mia.johnson@email.com',\n",
       "  'order_id': 4},\n",
       " {'address': '0x0GJBO7PC1LRE0F98MO4VE2H5BE9BW7M80ZBYAQ8Z',\n",
       "  'name': 'Isabella Johnson',\n",
       "  'email': 'isabella.johnson@email.com',\n",
       "  'order_id': 1}]"
      ]
     },
     "execution_count": 1,
     "metadata": {},
     "output_type": "execute_result"
    }
   ],
   "source": [
    "# generate users\n",
    "def generate_user_data(N):\n",
    "    users = []\n",
    "    popular_names = [\"Emma\", \"Olivia\", \"Ava\", \"Isabella\",\n",
    "                     \"Sophia\", \"Mia\", \"Charlotte\", \"Amelia\", \"Harper\", \"Evelyn\"]\n",
    "    popular_surnames = [\"Smith\", \"Johnson\", \"Williams\", \"Jones\",\n",
    "                        \"Brown\", \"Davis\", \"Miller\", \"Wilson\", \"Moore\", \"Taylor\"]\n",
    "    for i in range(N):\n",
    "        address = '0x' + \\\n",
    "            ''.join(random.choices(string.ascii_uppercase + string.digits, k=40))\n",
    "        name = random.choice(popular_names)\n",
    "        surname = random.choice(popular_surnames)\n",
    "        email = name.lower() + '.' + surname.lower() + '@email.com'\n",
    "        order_id = random.randint(0, 5)\n",
    "        user = {\n",
    "            \"address\": address,\n",
    "            \"name\": name + ' ' + surname,\n",
    "            \"email\": email,\n",
    "            \"order_id\": order_id\n",
    "        }\n",
    "        users.append(user)\n",
    "    return users\n",
    "\n",
    "\n",
    "N = 50\n",
    "users = generate_user_data(N)\n",
    "users\n"
   ]
  },
  {
   "cell_type": "code",
   "execution_count": 15,
   "metadata": {},
   "outputs": [
    {
     "name": "stdout",
     "output_type": "stream",
     "text": [
      "Connected to MongoDB!\n"
     ]
    }
   ],
   "source": [
    "# Connect to the MongoDB server\n",
    "client = pymongo.MongoClient(MONGODB_CONNECTION_STRING)\n",
    "\n",
    "# Choose the database to use\n",
    "db = client[\"permissionless_users\"]\n",
    "\n",
    "# Check the connection to the database\n",
    "try:\n",
    "    client.server_info()\n",
    "    print(\"Connected to MongoDB!\")\n",
    "except pymongo.errors.ServerSelectionTimeoutError as error:\n",
    "    print(\"Could not connect to MongoDB:\", error)\n"
   ]
  },
  {
   "cell_type": "code",
   "execution_count": null,
   "metadata": {},
   "outputs": [],
   "source": [
    "#  Insert the users into the database\n",
    "db.prime_users.insert_many(users)\n"
   ]
  },
  {
   "attachments": {},
   "cell_type": "markdown",
   "metadata": {},
   "source": [
    "Users are in database, hooray!!! :D\n"
   ]
  },
  {
   "cell_type": "code",
   "execution_count": 17,
   "metadata": {},
   "outputs": [
    {
     "data": {
      "text/plain": [
       "Collection(Database(MongoClient(host=['ac-8c6kwym-shard-00-02.jnb3wnx.mongodb.net:27017', 'ac-8c6kwym-shard-00-00.jnb3wnx.mongodb.net:27017', 'ac-8c6kwym-shard-00-01.jnb3wnx.mongodb.net:27017'], document_class=dict, tz_aware=False, connect=True, retrywrites=True, w='majority', authsource='admin', replicaset='atlas-hazspk-shard-0', tls=True), 'permissionless_users'), 'subscriptions')"
      ]
     },
     "execution_count": 17,
     "metadata": {},
     "output_type": "execute_result"
    }
   ],
   "source": [
    "db.create_collection(\"subscriptions\", validator={\"$jsonSchema\": {\n",
    "    \"bsonType\": \"object\",\n",
    "    \"required\": [\"user_id\", \"event_name\", \"active\"],\n",
    "    \"properties\": {\n",
    "        \"user_id\": {\n",
    "            \"bsonType\": \"objectId\",\n",
    "            \"description\": \"must be an object id and is required\"\n",
    "        },\n",
    "        \"event_name\": {\n",
    "            \"bsonType\": \"string\",\n",
    "            \"description\": \"must be a string and is required\"\n",
    "        },\n",
    "        \"start_date\": {\n",
    "            \"bsonType\": \"date\",\n",
    "            \"description\": \"must be a date and is required\"\n",
    "        },\n",
    "        \"active\": {\n",
    "            \"bsonType\": \"bool\",\n",
    "            \"description\": \"must be a boolean and is required\"\n",
    "        }\n",
    "    }\n",
    "}})\n"
   ]
  },
  {
   "cell_type": "code",
   "execution_count": 21,
   "metadata": {},
   "outputs": [
    {
     "data": {
      "text/plain": [
       "<pymongo.results.InsertOneResult at 0x29eb0542ec0>"
      ]
     },
     "execution_count": 21,
     "metadata": {},
     "output_type": "execute_result"
    }
   ],
   "source": [
    "from bson.objectid import ObjectId, datetime\n",
    "\n",
    "example_subscription = {\n",
    "    \"user_id\": ObjectId(),\n",
    "    \"event_name\": \"event_name\",\n",
    "    \"start_date\": datetime.datetime.utcnow(),\n",
    "    \"active\": True\n",
    "}\n",
    "db.subscriptions.insert_one(example_subscription)"
   ]
  },
  {
   "attachments": {},
   "cell_type": "markdown",
   "metadata": {},
   "source": [
    "Collection is created, hooray!!! :D"
   ]
  },
  {
   "cell_type": "code",
   "execution_count": 6,
   "metadata": {},
   "outputs": [
    {
     "data": {
      "text/plain": [
       "<pymongo.cursor.Cursor at 0x202ee4c2440>"
      ]
     },
     "execution_count": 6,
     "metadata": {},
     "output_type": "execute_result"
    }
   ],
   "source": [
    "db.prime_users.find(limit=5)\n"
   ]
  }
 ],
 "metadata": {
  "kernelspec": {
   "display_name": "Python 3",
   "language": "python",
   "name": "python3"
  },
  "language_info": {
   "codemirror_mode": {
    "name": "ipython",
    "version": 3
   },
   "file_extension": ".py",
   "mimetype": "text/x-python",
   "name": "python",
   "nbconvert_exporter": "python",
   "pygments_lexer": "ipython3",
   "version": "3.10.4"
  },
  "orig_nbformat": 4,
  "vscode": {
   "interpreter": {
    "hash": "369f2c481f4da34e4445cda3fffd2e751bd1c4d706f27375911949ba6bb62e1c"
   }
  }
 },
 "nbformat": 4,
 "nbformat_minor": 2
}
